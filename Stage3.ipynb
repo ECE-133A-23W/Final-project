{
 "cells": [
  {
   "cell_type": "markdown",
   "id": "275429d1",
   "metadata": {},
   "source": [
    "STAGE 3\n",
    "\n",
    "\n",
    "___________________________________________________________________________"
   ]
  },
  {
   "cell_type": "code",
   "execution_count": 1,
   "id": "fc2a5d35",
   "metadata": {},
   "outputs": [],
   "source": [
    "import numpy as np\n",
    "import pandas as pd\n",
    "df_1=pd.read_csv('hotel_booking.csv')\n",
    "df_2= df_1.drop(\"company\", axis='columns')\n",
    "df_3= df_2.drop(\"reservation_status\", axis = 1)\n",
    "df4=df_3.dropna()"
   ]
  },
  {
   "cell_type": "code",
   "execution_count": 2,
   "id": "d7cc3465",
   "metadata": {},
   "outputs": [],
   "source": [
    "df=df4.sample(n=60000, random_state=42)"
   ]
  },
  {
   "cell_type": "code",
   "execution_count": 3,
   "id": "bcf1d490",
   "metadata": {},
   "outputs": [
    {
     "name": "stdout",
     "output_type": "stream",
     "text": [
      "<class 'pandas.core.frame.DataFrame'>\n",
      "Int64Index: 60000 entries, 114611 to 26284\n",
      "Data columns (total 30 columns):\n",
      " #   Column                          Non-Null Count  Dtype  \n",
      "---  ------                          --------------  -----  \n",
      " 0   hotel                           60000 non-null  object \n",
      " 1   is_canceled                     60000 non-null  int64  \n",
      " 2   lead_time                       60000 non-null  int64  \n",
      " 3   arrival_date_year               60000 non-null  int64  \n",
      " 4   arrival_date_month              60000 non-null  object \n",
      " 5   arrival_date_week_number        60000 non-null  int64  \n",
      " 6   arrival_date_day_of_month       60000 non-null  int64  \n",
      " 7   stays_in_weekend_nights         60000 non-null  int64  \n",
      " 8   stays_in_week_nights            60000 non-null  int64  \n",
      " 9   adults                          60000 non-null  int64  \n",
      " 10  children                        60000 non-null  float64\n",
      " 11  babies                          60000 non-null  int64  \n",
      " 12  meal                            60000 non-null  object \n",
      " 13  country                         60000 non-null  object \n",
      " 14  market_segment                  60000 non-null  object \n",
      " 15  distribution_channel            60000 non-null  object \n",
      " 16  is_repeated_guest               60000 non-null  int64  \n",
      " 17  previous_cancellations          60000 non-null  int64  \n",
      " 18  previous_bookings_not_canceled  60000 non-null  int64  \n",
      " 19  reserved_room_type              60000 non-null  object \n",
      " 20  assigned_room_type              60000 non-null  object \n",
      " 21  booking_changes                 60000 non-null  int64  \n",
      " 22  deposit_type                    60000 non-null  object \n",
      " 23  agent                           60000 non-null  float64\n",
      " 24  days_in_waiting_list            60000 non-null  int64  \n",
      " 25  customer_type                   60000 non-null  object \n",
      " 26  adr                             60000 non-null  float64\n",
      " 27  required_car_parking_spaces     60000 non-null  int64  \n",
      " 28  total_of_special_requests       60000 non-null  int64  \n",
      " 29  reservation_status_date         60000 non-null  object \n",
      "dtypes: float64(3), int64(16), object(11)\n",
      "memory usage: 14.2+ MB\n"
     ]
    }
   ],
   "source": [
    "df.info()"
   ]
  },
  {
   "cell_type": "code",
   "execution_count": 4,
   "id": "4a0b9a25",
   "metadata": {},
   "outputs": [],
   "source": [
    "from sklearn.impute import SimpleImputer\n",
    "from sklearn.compose import ColumnTransformer\n",
    "from sklearn.linear_model import LogisticRegression\n",
    "from sklearn.metrics import confusion_matrix\n",
    "from sklearn import metrics\n",
    "import itertools\n",
    "from mlxtend.plotting import plot_confusion_matrix\n",
    "from sklearn.linear_model import LinearRegression\n",
    "from sklearn.pipeline import Pipeline\n",
    "from sklearn.preprocessing import StandardScaler\n",
    "from sklearn.preprocessing import OneHotEncoder\n",
    "from sklearn.model_selection import train_test_split, cross_val_score, GridSearchCV, KFold\n",
    "\n",
    "#x_standrized=full_pipeline.fit_transform(x)\n",
    "\n"
   ]
  },
  {
   "cell_type": "code",
   "execution_count": null,
   "id": "46651b17",
   "metadata": {},
   "outputs": [],
   "source": []
  },
  {
   "cell_type": "code",
   "execution_count": 7,
   "id": "b16adcb1",
   "metadata": {},
   "outputs": [],
   "source": [
    "y = df[\"is_canceled\"]\n",
    "x = df.drop(\"is_canceled\", axis=1)\n",
    "categorical_features = x.select_dtypes(include=\"object\").columns\n",
    "integer_features = x.select_dtypes(exclude=\"object\").columns\n",
    "full_pipeline = ColumnTransformer([\n",
    "        (\"num\", StandardScaler(), integer_features),\n",
    "        (\"cat\", OneHotEncoder(handle_unknown='ignore'), categorical_features),\n",
    "    ])\n",
    "#train_raw, test_raw, target, target_test = train_test_split(x,y, test_size=0.2, stratify= y, random_state=0)"
   ]
  },
  {
   "cell_type": "code",
   "execution_count": 8,
   "id": "65ea1d83",
   "metadata": {},
   "outputs": [
    {
     "name": "stdout",
     "output_type": "stream",
     "text": [
      "In 1 fold, the accuracy is 0.88725\n",
      "In 2 fold, the accuracy is 0.8805\n",
      "In 3 fold, the accuracy is 0.8830833333333333\n",
      "In 4 fold, the accuracy is 0.8825833333333334\n",
      "In 5 fold, the accuracy is 0.8851666666666667\n"
     ]
    }
   ],
   "source": [
    "split=5\n",
    "df_size=df.shape[0]\n",
    "fold_size = df.shape[0]/split\n",
    "coef_cv=np.zeros((5,df_size))\n",
    "for i in range(split):\n",
    "    test_index = np.arange(i*fold_size, i*fold_size+fold_size,1)\n",
    "    train_index = np.setdiff1d(np.arange(0,df.shape[0],1),test_index)\n",
    "#.  debug\n",
    "#   print(test_index)\n",
    "#    print(train_index)\n",
    "    train_raw = x.iloc[train_index]\n",
    "    train_target_raw = y.iloc[train_index]\n",
    "    test_raw = x.iloc[test_index]\n",
    "    test_target_raw = y.iloc[test_index]\n",
    "    #pipeline\n",
    "    train = full_pipeline.fit_transform(train_raw)\n",
    "    test = full_pipeline.transform(test_raw)\n",
    "    train_target = train_target_raw.to_numpy()\n",
    "    test_target = test_target_raw.to_numpy()\n",
    "    lin_clf = LinearRegression()\n",
    "    lin_clf.fit(train,train_target)\n",
    "    predict1 = lin_clf.predict(test)\n",
    "    predict2 = np.zeros(predict1.shape[0])\n",
    "    for j in range(predict2.shape[0]):\n",
    "        if (predict1[j]<0.5):\n",
    "            predict2[j]=0\n",
    "        else:\n",
    "            predict2[j]=1\n",
    "    #print(metrics.accuracy_score(test_target,predict2))\n",
    "    #print(lin_clf.coef_.shape[0])\n",
    "    #print(lin_clf.coef_)\n",
    "    #new_array = np.array(lin_clf.coef_)\n",
    "    coef_cv[i,:lin_clf.coef_.shape[0]]=np.array(lin_clf.coef_)\n",
    "    print(\"In \"+ str(i+1)  + \" fold, the accuracy is \"+ str(metrics.accuracy_score(test_target,predict2)))\n",
    "    \n",
    "    "
   ]
  },
  {
   "cell_type": "code",
   "execution_count": 9,
   "id": "cc387e44",
   "metadata": {},
   "outputs": [
    {
     "data": {
      "image/png": "[encoded data removed]",
      "text/plain": [
       "<Figure size 432x432 with 1 Axes>"
      ]
     },
     "metadata": {
      "needs_background": "light"
     },
     "output_type": "display_data"
    }
   ],
   "source": [
    "#BEST MODEL\n",
    "#\n",
    "#\n",
    "#\n",
    "i=0\n",
    "train_raw = x.iloc[train_index]\n",
    "train_target_raw = y.iloc[train_index]\n",
    "test_raw = x.iloc[test_index]\n",
    "test_target_raw = y.iloc[test_index]\n",
    "#pipeline\n",
    "train = full_pipeline.fit_transform(train_raw)\n",
    "test = full_pipeline.transform(test_raw)\n",
    "train_target = train_target_raw.to_numpy()\n",
    "test_target = test_target_raw.to_numpy()\n",
    "lin_clf = LinearRegression()\n",
    "lin_clf.fit(train,train_target)\n",
    "predict1 = lin_clf.predict(test)\n",
    "predict2 = np.zeros(predict1.shape[0])\n",
    "for j in range(predict2.shape[0]):\n",
    "        if (predict1[j]<0.5):\n",
    "            predict2[j]=0\n",
    "        else:\n",
    "            predict2[j]=1\n",
    "cm = confusion_matrix(test_target, predict2)\n",
    "fig, ax = plot_confusion_matrix(conf_mat=cm, figsize=(6, 6))"
   ]
  },
  {
   "cell_type": "code",
   "execution_count": 10,
   "id": "2013cd7f",
   "metadata": {},
   "outputs": [],
   "source": [
    "from sklearn.linear_model import Ridge\n",
    "ridge = Ridge(alpha=0.4)\n",
    "ridge.coef_ = lin_clf.coef_\n",
    "ridge.fit(train, train_target)\n",
    "\n",
    "\n",
    "predict_r1 = ridge.predict(test)\n",
    "predict_r2 = np.zeros(predict1.shape[0])"
   ]
  },
  {
   "cell_type": "code",
   "execution_count": 11,
   "id": "a957745e",
   "metadata": {},
   "outputs": [
    {
     "data": {
      "image/png": "[encoded data removed]",
      "text/plain": [
       "<Figure size 432x432 with 1 Axes>"
      ]
     },
     "metadata": {
      "needs_background": "light"
     },
     "output_type": "display_data"
    }
   ],
   "source": [
    "for j in range(predict_r2.shape[0]):\n",
    "        if (predict_r1[j]<0.5):\n",
    "            predict_r2[j]=0\n",
    "        else:\n",
    "            predict_r2[j]=1\n",
    "cm_r = confusion_matrix(test_target, predict_r2)\n",
    "fig, ax = plot_confusion_matrix(conf_mat=cm_r, figsize=(6, 6))"
   ]
  },
  {
   "cell_type": "code",
   "execution_count": 12,
   "id": "30cb7cf1",
   "metadata": {},
   "outputs": [
    {
     "name": "stdout",
     "output_type": "stream",
     "text": [
      "L2 norm of coefficients: 22.0824809727579\n"
     ]
    }
   ],
   "source": [
    "l2_norm = np.linalg.norm(ridge.coef_)\n",
    "\n",
    "print(\"L2 norm of coefficients:\", l2_norm)"
   ]
  },
  {
   "cell_type": "code",
   "execution_count": 13,
   "id": "ca937c85",
   "metadata": {},
   "outputs": [],
   "source": [
    "from sklearn import svm\n",
    "\n"
   ]
  },
  {
   "cell_type": "code",
   "execution_count": 24,
   "id": "dc9a78a9",
   "metadata": {},
   "outputs": [
    {
     "name": "stdout",
     "output_type": "stream",
     "text": [
      "In 1 fold, the accuracy is 0.87225\n",
      "In 2 fold, the accuracy is 0.8705\n",
      "In 3 fold, the accuracy is 0.8685\n",
      "In 4 fold, the accuracy is 0.86925\n",
      "In 5 fold, the accuracy is 0.87175\n"
     ]
    }
   ],
   "source": [
    "split=5\n",
    "df_size=df.shape[0]\n",
    "fold_size = df.shape[0]/split\n",
    "coef_cv_svm=np.zeros((5,df_size))\n",
    "for i in range(split):\n",
    "    test_index = np.arange(i*fold_size, i*fold_size+fold_size,1)\n",
    "    train_index = np.setdiff1d(np.arange(0,df.shape[0],1),test_index)\n",
    "#.  debug\n",
    "#   print(test_index)\n",
    "#    print(train_index)\n",
    "    train_raw = x.iloc[train_index]\n",
    "    train_target_raw = y.iloc[train_index]\n",
    "    test_raw = x.iloc[test_index]\n",
    "    test_target_raw = y.iloc[test_index]\n",
    "    #pipeline\n",
    "    train = full_pipeline.fit_transform(train_raw)\n",
    "    test = full_pipeline.transform(test_raw)\n",
    "    train_target = train_target_raw.to_numpy()\n",
    "    test_target = test_target_raw.to_numpy()\n",
    "    svm_clf = svm.SVC()\n",
    "    svm_clf.fit(train,train_target)\n",
    "    predict_s1 = svm_clf.predict(test)\n",
    "    predict_s2 = np.zeros(predict_s1.shape[0])\n",
    "    for j in range(predict_s2.shape[0]):\n",
    "        if (predict_s1[j]<0.5):\n",
    "            predict_s2[j]=0\n",
    "        else:\n",
    "            predict_s2[j]=1\n",
    "    #print(metrics.accuracy_score(test_target,predict2))\n",
    "    #print(lin_clf.coef_.shape[0])\n",
    "    #print(lin_clf.coef_)\n",
    "    #new_array = np.array(lin_clf.coef_)\n",
    "    #coef_cv_svm[i,:lin_clf.coef_.shape[0]]=np.array(svm_clf.coef_)\n",
    "    print(\"In \"+ str(i+1)  + \" fold, the accuracy is \"+ str(metrics.accuracy_score(test_target,predict_s2)))\n",
    "    "
   ]
  },
  {
   "cell_type": "code",
   "execution_count": 17,
   "id": "237b0edb",
   "metadata": {},
   "outputs": [],
   "source": [
    "# from sklearn import tree\n",
    "\n",
    "# clf = tree.DecisionTreeClassifier()\n",
    "# clf = clf.fit(train, train_target)\n",
    "# predict_d1 = clf.predict(test)"
   ]
  },
  {
   "cell_type": "code",
   "execution_count": 25,
   "id": "59b2ea98",
   "metadata": {},
   "outputs": [],
   "source": [
    "# metrics.accuracy_score(test_target,predict_d1)"
   ]
  },
  {
   "cell_type": "code",
   "execution_count": 26,
   "id": "493a7e0a",
   "metadata": {},
   "outputs": [],
   "source": [
    "# split=5\n",
    "# df_size=df.shape[0]\n",
    "# fold_size = df.shape[0]/split \n",
    "# coef_cv=np.zeros((5,df_size))\n",
    "# for i in range(split):\n",
    "#     test_index  = np.arange(i*fold_size, i*fold_size+fold_size,1)\n",
    "#     train_index = np.setdiff1d(np.arange(0,df.shape[0],1),test_index)\n",
    "# #.  debug\n",
    "# #   print(test_index)\n",
    "# #    print(train_index)\n",
    "#     train_raw = x.iloc[train_index]\n",
    "#     train_target_raw = y.iloc[train_index]\n",
    "#     test_raw = x.iloc[test_index]\n",
    "#     test_target_raw = y.iloc[test_index]\n",
    "#     #pipeline\n",
    "#     train = full_pipeline.fit_transform(train_raw)\n",
    "#     test = full_pipeline.transform(test_raw)\n",
    "#     train_target = train_target_raw.to_numpy()\n",
    "#     test_target = test_target_raw.to_numpy()\n",
    "#     tree_clf = tree.DecisionTreeClassifier()\n",
    "#     tree_clf.fit(train,train_target)\n",
    "#     predict_t1 = tree_clf.predict(test)\n",
    "#     #print(metrics.accuracy_score(test_target,predict2))\n",
    "#     #print(lin_clf.coef_.shape[0])\n",
    "#     #print(lin_clf.coef_)\n",
    "#     #new_array = np.array(lin_clf.coef_)\n",
    "#     #coef_cv[i,:lin_clf.coef_.shape[0]]=np.array(lin_clf.coef_)\n",
    "#     print(\"In \"+ str(i+1)  + \" fold, the accuracy is \"+ str(metrics.accuracy_score(test_target,predict_t1)))\n",
    "    "
   ]
  },
  {
   "cell_type": "code",
   "execution_count": null,
   "id": "334e82cf",
   "metadata": {},
   "outputs": [],
   "source": []
  },
  {
   "cell_type": "code",
   "execution_count": null,
   "id": "a05d99ba",
   "metadata": {},
   "outputs": [],
   "source": []
  }
 ],
 "metadata": {
  "kernelspec": {
   "display_name": "Python 3 (ipykernel)",
   "language": "python",
   "name": "python3"
  },
  "language_info": {
   "codemirror_mode": {
    "name": "ipython",
    "version": 3
   },
   "file_extension": ".py",
   "mimetype": "text/x-python",
   "name": "python",
   "nbconvert_exporter": "python",
   "pygments_lexer": "ipython3",
   "version": "3.9.11"
  }
 },
 "nbformat": 4,
 "nbformat_minor": 5
}
