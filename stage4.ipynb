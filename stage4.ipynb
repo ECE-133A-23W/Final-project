{
 "cells": [
  {
   "cell_type": "markdown",
   "id": "275429d1",
   "metadata": {},
   "source": [
    "STAGE 3\n",
    "\n",
    "\n",
    "___________________________________________________________________________"
   ]
  },
  {
   "cell_type": "code",
   "execution_count": 1,
   "id": "fc2a5d35",
   "metadata": {},
   "outputs": [],
   "source": [
    "import numpy as np\n",
    "import pandas as pd\n",
    "df_1=pd.read_csv('hotel_booking.csv')\n",
    "df_2= df_1.drop(\"company\", axis='columns')\n",
    "df_3= df_2.drop(\"reservation_status\", axis = 1)\n",
    "df4=df_3.dropna()"
   ]
  },
  {
   "cell_type": "code",
   "execution_count": 2,
   "id": "d7cc3465",
   "metadata": {},
   "outputs": [],
   "source": [
    "df=df4.sample(n=60000, random_state=42)"
   ]
  },
  {
   "cell_type": "code",
   "execution_count": 3,
   "id": "bcf1d490",
   "metadata": {},
   "outputs": [
    {
     "name": "stdout",
     "output_type": "stream",
     "text": [
      "<class 'pandas.core.frame.DataFrame'>\n",
      "Int64Index: 60000 entries, 114611 to 26284\n",
      "Data columns (total 30 columns):\n",
      " #   Column                          Non-Null Count  Dtype  \n",
      "---  ------                          --------------  -----  \n",
      " 0   hotel                           60000 non-null  object \n",
      " 1   is_canceled                     60000 non-null  int64  \n",
      " 2   lead_time                       60000 non-null  int64  \n",
      " 3   arrival_date_year               60000 non-null  int64  \n",
      " 4   arrival_date_month              60000 non-null  object \n",
      " 5   arrival_date_week_number        60000 non-null  int64  \n",
      " 6   arrival_date_day_of_month       60000 non-null  int64  \n",
      " 7   stays_in_weekend_nights         60000 non-null  int64  \n",
      " 8   stays_in_week_nights            60000 non-null  int64  \n",
      " 9   adults                          60000 non-null  int64  \n",
      " 10  children                        60000 non-null  float64\n",
      " 11  babies                          60000 non-null  int64  \n",
      " 12  meal                            60000 non-null  object \n",
      " 13  country                         60000 non-null  object \n",
      " 14  market_segment                  60000 non-null  object \n",
      " 15  distribution_channel            60000 non-null  object \n",
      " 16  is_repeated_guest               60000 non-null  int64  \n",
      " 17  previous_cancellations          60000 non-null  int64  \n",
      " 18  previous_bookings_not_canceled  60000 non-null  int64  \n",
      " 19  reserved_room_type              60000 non-null  object \n",
      " 20  assigned_room_type              60000 non-null  object \n",
      " 21  booking_changes                 60000 non-null  int64  \n",
      " 22  deposit_type                    60000 non-null  object \n",
      " 23  agent                           60000 non-null  float64\n",
      " 24  days_in_waiting_list            60000 non-null  int64  \n",
      " 25  customer_type                   60000 non-null  object \n",
      " 26  adr                             60000 non-null  float64\n",
      " 27  required_car_parking_spaces     60000 non-null  int64  \n",
      " 28  total_of_special_requests       60000 non-null  int64  \n",
      " 29  reservation_status_date         60000 non-null  object \n",
      "dtypes: float64(3), int64(16), object(11)\n",
      "memory usage: 14.2+ MB\n"
     ]
    }
   ],
   "source": [
    "df.info()"
   ]
  },
  {
   "cell_type": "code",
   "execution_count": 4,
   "id": "4a0b9a25",
   "metadata": {},
   "outputs": [],
   "source": [
    "from sklearn.impute import SimpleImputer\n",
    "from sklearn.compose import ColumnTransformer\n",
    "from sklearn.linear_model import LogisticRegression\n",
    "from sklearn.metrics import confusion_matrix\n",
    "from sklearn import metrics\n",
    "import itertools\n",
    "from mlxtend.plotting import plot_confusion_matrix\n",
    "from sklearn.linear_model import LinearRegression\n",
    "from sklearn.pipeline import Pipeline\n",
    "from sklearn.preprocessing import StandardScaler\n",
    "from sklearn.preprocessing import OneHotEncoder\n",
    "from sklearn.metrics import mean_squared_error\n",
    "from sklearn.model_selection import train_test_split, cross_val_score, GridSearchCV, KFold\n",
    "\n",
    "\n",
    "\n"
   ]
  },
  {
   "cell_type": "code",
   "execution_count": 5,
   "id": "b16adcb1",
   "metadata": {},
   "outputs": [],
   "source": [
    "y = df[\"is_canceled\"]\n",
    "x = df.drop(\"is_canceled\", axis=1)\n",
    "categorical_features = x.select_dtypes(include=\"object\").columns\n",
    "integer_features = x.select_dtypes(exclude=\"object\").columns\n",
    "full_pipeline = ColumnTransformer([\n",
    "        (\"num\", StandardScaler(), integer_features),\n",
    "        (\"cat\", OneHotEncoder(handle_unknown='ignore'), categorical_features),\n",
    "    ])\n",
    "#train_raw, test_raw, target, target_test = train_test_split(x,y, test_size=0.2, stratify= y, random_state=0)"
   ]
  },
  {
   "cell_type": "code",
   "execution_count": 6,
   "id": "65ea1d83",
   "metadata": {},
   "outputs": [
    {
     "name": "stdout",
     "output_type": "stream",
     "text": [
      "In 1 fold, the training error is 0.09584232568687463\n",
      "In 1 fold, the test error is 0.09948697608425394\n",
      "In 1 fold, the accuracy is 0.88725\n",
      "In 2 fold, the training error is 0.09510266641203735\n",
      "In 2 fold, the test error is 0.10328153210955107\n",
      "In 2 fold, the accuracy is 0.8805\n",
      "In 3 fold, the training error is 0.09547125626988161\n",
      "In 3 fold, the test error is 0.1020611842220959\n",
      "In 3 fold, the accuracy is 0.8830833333333333\n",
      "In 4 fold, the training error is 0.09554040736283777\n",
      "In 4 fold, the test error is 0.10214865864993436\n",
      "In 4 fold, the accuracy is 0.8825833333333334\n",
      "In 5 fold, the training error is 0.09568722216000101\n",
      "In 5 fold, the test error is 0.10207252891662491\n",
      "In 5 fold, the accuracy is 0.8851666666666667\n"
     ]
    }
   ],
   "source": [
    "split=5\n",
    "df_size=df.shape[0]\n",
    "fold_size = df.shape[0]/split\n",
    "coef_cv=np.zeros((5,df_size))\n",
    "for i in range(split):\n",
    "    test_index = np.arange(i*fold_size, i*fold_size+fold_size,1)\n",
    "    train_index = np.setdiff1d(np.arange(0,df.shape[0],1),test_index)\n",
    "#.  debug\n",
    "#   print(test_index)\n",
    "#    print(train_index)\n",
    "    train_raw = x.iloc[train_index]\n",
    "    train_target_raw = y.iloc[train_index]\n",
    "    test_raw = x.iloc[test_index]\n",
    "    test_target_raw = y.iloc[test_index]\n",
    "    #pipeline\n",
    "    train = full_pipeline.fit_transform(train_raw)\n",
    "    test = full_pipeline.transform(test_raw)\n",
    "    train_target = train_target_raw.to_numpy()\n",
    "    test_target = test_target_raw.to_numpy()\n",
    "    lin_clf = LinearRegression()\n",
    "    lin_clf.fit(train,train_target)\n",
    "    predict1 = lin_clf.predict(test)\n",
    "    predict2 = np.zeros(predict1.shape[0])\n",
    "    predict3 = lin_clf.predict(train)\n",
    "    print(\"In \"+ str(i+1)  + \" fold, the training error is \"+ str(mean_squared_error(train_target,predict3)))\n",
    "    print(\"In \"+ str(i+1)  + \" fold, the test error is \"+ str(mean_squared_error(test_target,predict1)))\n",
    "    for j in range(predict2.shape[0]):\n",
    "        if (predict1[j]<0.5):\n",
    "            predict2[j]=0\n",
    "        else:\n",
    "            predict2[j]=1\n",
    "    #print(metrics.accuracy_score(test_target,predict2))\n",
    "    #print(lin_clf.coef_.shape[0])\n",
    "    #print(lin_clf.coef_)\n",
    "    #new_array = np.array(lin_clf.coef_)\n",
    "    coef_cv[i,:lin_clf.coef_.shape[0]]=np.array(lin_clf.coef_)\n",
    "    print(\"In \"+ str(i+1)  + \" fold, the accuracy is \"+ str(metrics.accuracy_score(test_target,predict2)))\n",
    "    \n",
    "    "
   ]
  },
  {
   "cell_type": "code",
   "execution_count": 7,
   "id": "9b7e6fb2",
   "metadata": {},
   "outputs": [
    {
     "name": "stdout",
     "output_type": "stream",
     "text": [
      "(48000, 1117)\n"
     ]
    }
   ],
   "source": [
    "print(train.shape)"
   ]
  },
  {
   "cell_type": "code",
   "execution_count": 8,
   "id": "62b796ab",
   "metadata": {},
   "outputs": [
    {
     "data": {
      "image/png": "[encoded data removed]",
      "text/plain": [
       "<Figure size 432x432 with 1 Axes>"
      ]
     },
     "metadata": {
      "needs_background": "light"
     },
     "output_type": "display_data"
    }
   ],
   "source": [
    "#BEST MODEL\n",
    "#\n",
    "#\n",
    "#\n",
    "i=0\n",
    "train_raw = x.iloc[train_index]\n",
    "train_target_raw = y.iloc[train_index]\n",
    "test_raw = x.iloc[test_index]\n",
    "test_target_raw = y.iloc[test_index]\n",
    "#pipeline\n",
    "train = full_pipeline.fit_transform(train_raw)\n",
    "test = full_pipeline.transform(test_raw)\n",
    "train_target = train_target_raw.to_numpy()\n",
    "test_target = test_target_raw.to_numpy()\n",
    "lin_clf = LinearRegression()\n",
    "lin_clf.fit(train,train_target)\n",
    "predict1 = lin_clf.predict(test)\n",
    "predict2 = np.zeros(predict1.shape[0])\n",
    "for j in range(predict2.shape[0]):\n",
    "        if (predict1[j]<0.5):\n",
    "            predict2[j]=0\n",
    "        else:\n",
    "            predict2[j]=1\n",
    "cm = confusion_matrix(test_target, predict2)\n",
    "fig, ax = plot_confusion_matrix(conf_mat=cm, figsize=(6, 6))"
   ]
  },
  {
   "cell_type": "code",
   "execution_count": 9,
   "id": "1180c0cb",
   "metadata": {},
   "outputs": [],
   "source": [
    "df_fe = df\n",
    "df_fe['Total_person'] = df_fe['adults'] + df_fe['children']\n",
    "df_fe['stays_total_days'] = df_fe['stays_in_weekend_nights'] + df_fe['stays_in_week_nights']\n",
    "df['success_rate'] = np.where((df['previous_cancellations'] + df['previous_bookings_not_canceled'])== 0, 0, df['previous_bookings_not_canceled'] / (df['previous_cancellations'] + df['previous_bookings_not_canceled']))"
   ]
  },
  {
   "cell_type": "code",
   "execution_count": 10,
   "id": "bd053d9a",
   "metadata": {},
   "outputs": [
    {
     "data": {
      "text/html": [
       "<div>\n",
       "<style scoped>\n",
       "    .dataframe tbody tr th:only-of-type {\n",
       "        vertical-align: middle;\n",
       "    }\n",
       "\n",
       "    .dataframe tbody tr th {\n",
       "        vertical-align: top;\n",
       "    }\n",
       "\n",
       "    .dataframe thead th {\n",
       "        text-align: right;\n",
       "    }\n",
       "</style>\n",
       "<table border=\"1\" class=\"dataframe\">\n",
       "  <thead>\n",
       "    <tr style=\"text-align: right;\">\n",
       "      <th></th>\n",
       "      <th>hotel</th>\n",
       "      <th>is_canceled</th>\n",
       "      <th>lead_time</th>\n",
       "      <th>arrival_date_year</th>\n",
       "      <th>arrival_date_month</th>\n",
       "      <th>arrival_date_week_number</th>\n",
       "      <th>arrival_date_day_of_month</th>\n",
       "      <th>stays_in_weekend_nights</th>\n",
       "      <th>stays_in_week_nights</th>\n",
       "      <th>adults</th>\n",
       "      <th>...</th>\n",
       "      <th>agent</th>\n",
       "      <th>days_in_waiting_list</th>\n",
       "      <th>customer_type</th>\n",
       "      <th>adr</th>\n",
       "      <th>required_car_parking_spaces</th>\n",
       "      <th>total_of_special_requests</th>\n",
       "      <th>reservation_status_date</th>\n",
       "      <th>Total_person</th>\n",
       "      <th>stays_total_days</th>\n",
       "      <th>success_rate</th>\n",
       "    </tr>\n",
       "  </thead>\n",
       "  <tbody>\n",
       "    <tr>\n",
       "      <th>114611</th>\n",
       "      <td>City Hotel</td>\n",
       "      <td>0</td>\n",
       "      <td>149</td>\n",
       "      <td>2017</td>\n",
       "      <td>June</td>\n",
       "      <td>25</td>\n",
       "      <td>24</td>\n",
       "      <td>0</td>\n",
       "      <td>1</td>\n",
       "      <td>2</td>\n",
       "      <td>...</td>\n",
       "      <td>495.0</td>\n",
       "      <td>0</td>\n",
       "      <td>Transient-Party</td>\n",
       "      <td>154.00</td>\n",
       "      <td>0</td>\n",
       "      <td>0</td>\n",
       "      <td>2017-06-25</td>\n",
       "      <td>2.0</td>\n",
       "      <td>1</td>\n",
       "      <td>0.0</td>\n",
       "    </tr>\n",
       "    <tr>\n",
       "      <th>35429</th>\n",
       "      <td>Resort Hotel</td>\n",
       "      <td>0</td>\n",
       "      <td>6</td>\n",
       "      <td>2017</td>\n",
       "      <td>April</td>\n",
       "      <td>16</td>\n",
       "      <td>19</td>\n",
       "      <td>0</td>\n",
       "      <td>3</td>\n",
       "      <td>2</td>\n",
       "      <td>...</td>\n",
       "      <td>240.0</td>\n",
       "      <td>0</td>\n",
       "      <td>Transient</td>\n",
       "      <td>128.00</td>\n",
       "      <td>0</td>\n",
       "      <td>1</td>\n",
       "      <td>2017-04-22</td>\n",
       "      <td>2.0</td>\n",
       "      <td>3</td>\n",
       "      <td>0.0</td>\n",
       "    </tr>\n",
       "    <tr>\n",
       "      <th>25024</th>\n",
       "      <td>Resort Hotel</td>\n",
       "      <td>0</td>\n",
       "      <td>93</td>\n",
       "      <td>2016</td>\n",
       "      <td>June</td>\n",
       "      <td>24</td>\n",
       "      <td>10</td>\n",
       "      <td>0</td>\n",
       "      <td>2</td>\n",
       "      <td>3</td>\n",
       "      <td>...</td>\n",
       "      <td>240.0</td>\n",
       "      <td>0</td>\n",
       "      <td>Transient-Party</td>\n",
       "      <td>166.00</td>\n",
       "      <td>0</td>\n",
       "      <td>0</td>\n",
       "      <td>2016-06-12</td>\n",
       "      <td>3.0</td>\n",
       "      <td>2</td>\n",
       "      <td>0.0</td>\n",
       "    </tr>\n",
       "    <tr>\n",
       "      <th>64893</th>\n",
       "      <td>City Hotel</td>\n",
       "      <td>1</td>\n",
       "      <td>31</td>\n",
       "      <td>2017</td>\n",
       "      <td>March</td>\n",
       "      <td>12</td>\n",
       "      <td>19</td>\n",
       "      <td>2</td>\n",
       "      <td>3</td>\n",
       "      <td>1</td>\n",
       "      <td>...</td>\n",
       "      <td>14.0</td>\n",
       "      <td>0</td>\n",
       "      <td>Transient</td>\n",
       "      <td>113.00</td>\n",
       "      <td>0</td>\n",
       "      <td>1</td>\n",
       "      <td>2017-02-21</td>\n",
       "      <td>1.0</td>\n",
       "      <td>5</td>\n",
       "      <td>0.0</td>\n",
       "    </tr>\n",
       "    <tr>\n",
       "      <th>91564</th>\n",
       "      <td>City Hotel</td>\n",
       "      <td>0</td>\n",
       "      <td>1</td>\n",
       "      <td>2016</td>\n",
       "      <td>June</td>\n",
       "      <td>26</td>\n",
       "      <td>22</td>\n",
       "      <td>0</td>\n",
       "      <td>1</td>\n",
       "      <td>1</td>\n",
       "      <td>...</td>\n",
       "      <td>7.0</td>\n",
       "      <td>0</td>\n",
       "      <td>Transient</td>\n",
       "      <td>95.48</td>\n",
       "      <td>0</td>\n",
       "      <td>1</td>\n",
       "      <td>2016-06-23</td>\n",
       "      <td>1.0</td>\n",
       "      <td>1</td>\n",
       "      <td>0.0</td>\n",
       "    </tr>\n",
       "    <tr>\n",
       "      <th>...</th>\n",
       "      <td>...</td>\n",
       "      <td>...</td>\n",
       "      <td>...</td>\n",
       "      <td>...</td>\n",
       "      <td>...</td>\n",
       "      <td>...</td>\n",
       "      <td>...</td>\n",
       "      <td>...</td>\n",
       "      <td>...</td>\n",
       "      <td>...</td>\n",
       "      <td>...</td>\n",
       "      <td>...</td>\n",
       "      <td>...</td>\n",
       "      <td>...</td>\n",
       "      <td>...</td>\n",
       "      <td>...</td>\n",
       "      <td>...</td>\n",
       "      <td>...</td>\n",
       "      <td>...</td>\n",
       "      <td>...</td>\n",
       "      <td>...</td>\n",
       "    </tr>\n",
       "    <tr>\n",
       "      <th>13700</th>\n",
       "      <td>Resort Hotel</td>\n",
       "      <td>1</td>\n",
       "      <td>40</td>\n",
       "      <td>2017</td>\n",
       "      <td>August</td>\n",
       "      <td>34</td>\n",
       "      <td>26</td>\n",
       "      <td>2</td>\n",
       "      <td>5</td>\n",
       "      <td>2</td>\n",
       "      <td>...</td>\n",
       "      <td>250.0</td>\n",
       "      <td>0</td>\n",
       "      <td>Transient</td>\n",
       "      <td>293.86</td>\n",
       "      <td>0</td>\n",
       "      <td>0</td>\n",
       "      <td>2017-07-18</td>\n",
       "      <td>2.0</td>\n",
       "      <td>7</td>\n",
       "      <td>0.0</td>\n",
       "    </tr>\n",
       "    <tr>\n",
       "      <th>35407</th>\n",
       "      <td>Resort Hotel</td>\n",
       "      <td>0</td>\n",
       "      <td>32</td>\n",
       "      <td>2017</td>\n",
       "      <td>April</td>\n",
       "      <td>16</td>\n",
       "      <td>16</td>\n",
       "      <td>2</td>\n",
       "      <td>4</td>\n",
       "      <td>3</td>\n",
       "      <td>...</td>\n",
       "      <td>40.0</td>\n",
       "      <td>0</td>\n",
       "      <td>Transient</td>\n",
       "      <td>85.84</td>\n",
       "      <td>0</td>\n",
       "      <td>0</td>\n",
       "      <td>2017-04-22</td>\n",
       "      <td>3.0</td>\n",
       "      <td>6</td>\n",
       "      <td>0.0</td>\n",
       "    </tr>\n",
       "    <tr>\n",
       "      <th>3422</th>\n",
       "      <td>Resort Hotel</td>\n",
       "      <td>1</td>\n",
       "      <td>44</td>\n",
       "      <td>2015</td>\n",
       "      <td>December</td>\n",
       "      <td>49</td>\n",
       "      <td>5</td>\n",
       "      <td>2</td>\n",
       "      <td>1</td>\n",
       "      <td>2</td>\n",
       "      <td>...</td>\n",
       "      <td>134.0</td>\n",
       "      <td>0</td>\n",
       "      <td>Transient-Party</td>\n",
       "      <td>70.00</td>\n",
       "      <td>0</td>\n",
       "      <td>0</td>\n",
       "      <td>2015-11-30</td>\n",
       "      <td>2.0</td>\n",
       "      <td>3</td>\n",
       "      <td>0.0</td>\n",
       "    </tr>\n",
       "    <tr>\n",
       "      <th>51605</th>\n",
       "      <td>City Hotel</td>\n",
       "      <td>0</td>\n",
       "      <td>147</td>\n",
       "      <td>2016</td>\n",
       "      <td>May</td>\n",
       "      <td>22</td>\n",
       "      <td>22</td>\n",
       "      <td>2</td>\n",
       "      <td>2</td>\n",
       "      <td>2</td>\n",
       "      <td>...</td>\n",
       "      <td>9.0</td>\n",
       "      <td>0</td>\n",
       "      <td>Transient</td>\n",
       "      <td>99.45</td>\n",
       "      <td>0</td>\n",
       "      <td>1</td>\n",
       "      <td>2016-05-26</td>\n",
       "      <td>2.0</td>\n",
       "      <td>4</td>\n",
       "      <td>0.0</td>\n",
       "    </tr>\n",
       "    <tr>\n",
       "      <th>26284</th>\n",
       "      <td>Resort Hotel</td>\n",
       "      <td>0</td>\n",
       "      <td>85</td>\n",
       "      <td>2016</td>\n",
       "      <td>July</td>\n",
       "      <td>30</td>\n",
       "      <td>18</td>\n",
       "      <td>3</td>\n",
       "      <td>6</td>\n",
       "      <td>2</td>\n",
       "      <td>...</td>\n",
       "      <td>240.0</td>\n",
       "      <td>0</td>\n",
       "      <td>Transient</td>\n",
       "      <td>165.56</td>\n",
       "      <td>0</td>\n",
       "      <td>2</td>\n",
       "      <td>2016-07-27</td>\n",
       "      <td>2.0</td>\n",
       "      <td>9</td>\n",
       "      <td>0.0</td>\n",
       "    </tr>\n",
       "  </tbody>\n",
       "</table>\n",
       "<p>60000 rows × 33 columns</p>\n",
       "</div>"
      ],
      "text/plain": [
       "               hotel  is_canceled  lead_time  arrival_date_year  \\\n",
       "114611    City Hotel            0        149               2017   \n",
       "35429   Resort Hotel            0          6               2017   \n",
       "25024   Resort Hotel            0         93               2016   \n",
       "64893     City Hotel            1         31               2017   \n",
       "91564     City Hotel            0          1               2016   \n",
       "...              ...          ...        ...                ...   \n",
       "13700   Resort Hotel            1         40               2017   \n",
       "35407   Resort Hotel            0         32               2017   \n",
       "3422    Resort Hotel            1         44               2015   \n",
       "51605     City Hotel            0        147               2016   \n",
       "26284   Resort Hotel            0         85               2016   \n",
       "\n",
       "       arrival_date_month  arrival_date_week_number  \\\n",
       "114611               June                        25   \n",
       "35429               April                        16   \n",
       "25024                June                        24   \n",
       "64893               March                        12   \n",
       "91564                June                        26   \n",
       "...                   ...                       ...   \n",
       "13700              August                        34   \n",
       "35407               April                        16   \n",
       "3422             December                        49   \n",
       "51605                 May                        22   \n",
       "26284                July                        30   \n",
       "\n",
       "        arrival_date_day_of_month  stays_in_weekend_nights  \\\n",
       "114611                         24                        0   \n",
       "35429                          19                        0   \n",
       "25024                          10                        0   \n",
       "64893                          19                        2   \n",
       "91564                          22                        0   \n",
       "...                           ...                      ...   \n",
       "13700                          26                        2   \n",
       "35407                          16                        2   \n",
       "3422                            5                        2   \n",
       "51605                          22                        2   \n",
       "26284                          18                        3   \n",
       "\n",
       "        stays_in_week_nights  adults  ...  agent  days_in_waiting_list  \\\n",
       "114611                     1       2  ...  495.0                     0   \n",
       "35429                      3       2  ...  240.0                     0   \n",
       "25024                      2       3  ...  240.0                     0   \n",
       "64893                      3       1  ...   14.0                     0   \n",
       "91564                      1       1  ...    7.0                     0   \n",
       "...                      ...     ...  ...    ...                   ...   \n",
       "13700                      5       2  ...  250.0                     0   \n",
       "35407                      4       3  ...   40.0                     0   \n",
       "3422                       1       2  ...  134.0                     0   \n",
       "51605                      2       2  ...    9.0                     0   \n",
       "26284                      6       2  ...  240.0                     0   \n",
       "\n",
       "          customer_type     adr required_car_parking_spaces  \\\n",
       "114611  Transient-Party  154.00                           0   \n",
       "35429         Transient  128.00                           0   \n",
       "25024   Transient-Party  166.00                           0   \n",
       "64893         Transient  113.00                           0   \n",
       "91564         Transient   95.48                           0   \n",
       "...                 ...     ...                         ...   \n",
       "13700         Transient  293.86                           0   \n",
       "35407         Transient   85.84                           0   \n",
       "3422    Transient-Party   70.00                           0   \n",
       "51605         Transient   99.45                           0   \n",
       "26284         Transient  165.56                           0   \n",
       "\n",
       "       total_of_special_requests  reservation_status_date  Total_person  \\\n",
       "114611                         0               2017-06-25           2.0   \n",
       "35429                          1               2017-04-22           2.0   \n",
       "25024                          0               2016-06-12           3.0   \n",
       "64893                          1               2017-02-21           1.0   \n",
       "91564                          1               2016-06-23           1.0   \n",
       "...                          ...                      ...           ...   \n",
       "13700                          0               2017-07-18           2.0   \n",
       "35407                          0               2017-04-22           3.0   \n",
       "3422                           0               2015-11-30           2.0   \n",
       "51605                          1               2016-05-26           2.0   \n",
       "26284                          2               2016-07-27           2.0   \n",
       "\n",
       "        stays_total_days success_rate  \n",
       "114611                 1          0.0  \n",
       "35429                  3          0.0  \n",
       "25024                  2          0.0  \n",
       "64893                  5          0.0  \n",
       "91564                  1          0.0  \n",
       "...                  ...          ...  \n",
       "13700                  7          0.0  \n",
       "35407                  6          0.0  \n",
       "3422                   3          0.0  \n",
       "51605                  4          0.0  \n",
       "26284                  9          0.0  \n",
       "\n",
       "[60000 rows x 33 columns]"
      ]
     },
     "execution_count": 10,
     "metadata": {},
     "output_type": "execute_result"
    }
   ],
   "source": [
    "df_fe"
   ]
  },
  {
   "cell_type": "code",
   "execution_count": 11,
   "id": "8d6c8bdb",
   "metadata": {},
   "outputs": [
    {
     "name": "stdout",
     "output_type": "stream",
     "text": [
      "In 1 fold, the training error is 0.09574605479960097\n",
      "In 1 fold, the test error is 0.09935588948984629\n",
      "In 1 fold, accuracy is 0.8873333333333333\n",
      "In 2 fold, the training error is 0.09502138079588174\n",
      "In 2 fold, the test error is 0.10308503510809644\n",
      "In 2 fold, accuracy is 0.8808333333333334\n",
      "In 3 fold, the training error is 0.09535696492806593\n",
      "In 3 fold, the test error is 0.10200121000374514\n",
      "In 3 fold, accuracy is 0.88325\n",
      "In 4 fold, the training error is 0.09542084158337734\n",
      "In 4 fold, the test error is 0.10209158348182432\n",
      "In 4 fold, accuracy is 0.88275\n",
      "In 5 fold, the training error is 0.09559568063851479\n",
      "In 5 fold, the test error is 0.1018776084520938\n",
      "In 5 fold, accuracy is 0.88575\n"
     ]
    }
   ],
   "source": [
    "y_fe = df_fe[\"is_canceled\"]\n",
    "x_fe = df_fe.drop(\"is_canceled\", axis=1)\n",
    "categorical_features_fe = x_fe.select_dtypes(include=\"object\").columns\n",
    "integer_features_fe = x_fe.select_dtypes(exclude=\"object\").columns\n",
    "full_pipeline_fe = ColumnTransformer([\n",
    "        (\"num\", StandardScaler(), integer_features_fe),\n",
    "        (\"cat\", OneHotEncoder(handle_unknown='ignore'), categorical_features_fe),\n",
    "    ])\n",
    "\n",
    "\n",
    "\n",
    "split=5\n",
    "df_fe_size=df_fe.shape[0]\n",
    "fold_fe_size = df_fe.shape[0]/split\n",
    "coef_fe_cv=np.zeros((5,df_fe_size))\n",
    "for i in range(split):\n",
    "    test_index = np.arange(i*fold_fe_size, i*fold_fe_size+fold_fe_size,1)\n",
    "    train_index = np.setdiff1d(np.arange(0,df_fe.shape[0],1),test_index)\n",
    "    train_raw = x_fe.iloc[train_index]\n",
    "    train_target_raw = y_fe.iloc[train_index]\n",
    "    test_raw = x_fe.iloc[test_index]\n",
    "    test_target_raw = y_fe.iloc[test_index]\n",
    "    #pipeline\n",
    "    train = full_pipeline_fe.fit_transform(train_raw)\n",
    "    test = full_pipeline_fe.transform(test_raw)\n",
    "    train_target = train_target_raw.to_numpy()\n",
    "    test_target = test_target_raw.to_numpy()\n",
    "    lin_clf = LinearRegression()\n",
    "    lin_clf.fit(train,train_target)\n",
    "    predict1 = lin_clf.predict(test)\n",
    "    predict2 = np.zeros(predict1.shape[0])\n",
    "    predict3 = lin_clf.predict(train)\n",
    "    print(\"In \"+ str(i+1)  + \" fold, the training error is \"+ str(mean_squared_error(train_target,predict3)))\n",
    "    print(\"In \"+ str(i+1)  + \" fold, the test error is \"+ str(mean_squared_error(test_target,predict1)))\n",
    "    for j in range(predict2.shape[0]):\n",
    "        if (predict1[j]<0.5):\n",
    "            predict2[j]=0\n",
    "        else:\n",
    "            predict2[j]=1\n",
    "    coef_fe_cv[i,:lin_clf.coef_.shape[0]]=np.array(lin_clf.coef_)\n",
    "    print(\"In \"+ str(i+1)  + \" fold, accuracy is \"+ str(metrics.accuracy_score(test_target,predict2)))\n",
    "    #print(\"In \"+ str(i+1)  +\" fold, the complexity for fitting is \"+str())\n",
    "    "
   ]
  },
  {
   "cell_type": "code",
   "execution_count": 12,
   "id": "0c24c7dd",
   "metadata": {},
   "outputs": [
    {
     "name": "stdout",
     "output_type": "stream",
     "text": [
      "(48000, 1120)\n"
     ]
    }
   ],
   "source": [
    "print(train.shape)"
   ]
  },
  {
   "cell_type": "code",
   "execution_count": 13,
   "id": "64111d93",
   "metadata": {},
   "outputs": [],
   "source": [
    "from sklearn.linear_model import Ridge\n",
    "ridge = Ridge(alpha=0.2)\n",
    "ridge.coef_ = lin_clf.coef_\n",
    "ridge.fit(train, train_target)\n",
    "\n",
    "\n",
    "predict_r1 = ridge.predict(test)\n",
    "predict_r2 = np.zeros(predict1.shape[0])"
   ]
  },
  {
   "cell_type": "code",
   "execution_count": 14,
   "id": "a957745e",
   "metadata": {},
   "outputs": [
    {
     "data": {
      "image/png": "[encoded data removed]",
      "text/plain": [
       "<Figure size 432x432 with 1 Axes>"
      ]
     },
     "metadata": {
      "needs_background": "light"
     },
     "output_type": "display_data"
    }
   ],
   "source": [
    "for j in range(predict_r2.shape[0]):\n",
    "        if (predict_r1[j]<0.5):\n",
    "            predict_r2[j]=0\n",
    "        else:\n",
    "            predict_r2[j]=1\n",
    "cm_r = confusion_matrix(test_target, predict_r2)\n",
    "fig, ax = plot_confusion_matrix(conf_mat=cm_r, figsize=(6, 6))"
   ]
  },
  {
   "cell_type": "code",
   "execution_count": 15,
   "id": "0e236360",
   "metadata": {},
   "outputs": [
    {
     "data": {
      "text/plain": [
       "0.88225"
      ]
     },
     "execution_count": 15,
     "metadata": {},
     "output_type": "execute_result"
    }
   ],
   "source": [
    "metrics.accuracy_score(test_target,predict_r2)"
   ]
  },
  {
   "cell_type": "code",
   "execution_count": 16,
   "id": "30cb7cf1",
   "metadata": {},
   "outputs": [
    {
     "name": "stdout",
     "output_type": "stream",
     "text": [
      "L2 norm of coefficients: 24.90256207803996\n"
     ]
    }
   ],
   "source": [
    "l2_norm = np.linalg.norm(ridge.coef_)\n",
    "\n",
    "print(\"L2 norm of coefficients:\", l2_norm)"
   ]
  },
  {
   "cell_type": "markdown",
   "id": "92349342",
   "metadata": {},
   "source": [
    "\n",
    "\n",
    "Non-linear Model"
   ]
  },
  {
   "cell_type": "code",
   "execution_count": 17,
   "id": "ca937c85",
   "metadata": {},
   "outputs": [],
   "source": [
    "from sklearn import svm\n",
    "\n"
   ]
  },
  {
   "cell_type": "code",
   "execution_count": 18,
   "id": "dc9a78a9",
   "metadata": {},
   "outputs": [
    {
     "name": "stdout",
     "output_type": "stream",
     "text": [
      "In 1 fold, the accuracy is 0.87225\n",
      "In 1fold, the mean of the coefficients is -6.329043734411288e-15\n",
      "In 2 fold, the accuracy is 0.8705\n",
      "In 2fold, the mean of the coefficients is 4.730455393717192e-15\n",
      "In 3 fold, the accuracy is 0.8685\n",
      "In 3fold, the mean of the coefficients is -2.6622990921196243e-15\n",
      "In 4 fold, the accuracy is 0.86925\n",
      "In 4fold, the mean of the coefficients is -3.481196992997926e-15\n",
      "In 5 fold, the accuracy is 0.87175\n",
      "In 5fold, the mean of the coefficients is 8.677547612759295e-16\n"
     ]
    }
   ],
   "source": [
    "split=5\n",
    "df_size=df.shape[0]\n",
    "fold_size = df.shape[0]/split\n",
    "coef_cv_svm=np.zeros((5,df_size))\n",
    "for i in range(split):\n",
    "    test_index = np.arange(i*fold_size, i*fold_size+fold_size,1)\n",
    "    train_index = np.setdiff1d(np.arange(0,df.shape[0],1),test_index)\n",
    "#.  debug\n",
    "#   print(test_index)\n",
    "#    print(train_index)\n",
    "    train_raw = x.iloc[train_index]\n",
    "    train_target_raw = y.iloc[train_index]\n",
    "    test_raw = x.iloc[test_index]\n",
    "    test_target_raw = y.iloc[test_index]\n",
    "    #pipeline\n",
    "    train = full_pipeline.fit_transform(train_raw)\n",
    "    test = full_pipeline.transform(test_raw)\n",
    "    train_target = train_target_raw.to_numpy()\n",
    "    test_target = test_target_raw.to_numpy()\n",
    "    svm_clf = svm.SVC()\n",
    "    svm_clf.fit(train,train_target)\n",
    "    predict_s1 = svm_clf.predict(test)\n",
    "    predict_s2 = np.zeros(predict_s1.shape[0])\n",
    "    for j in range(predict_s2.shape[0]):\n",
    "        if (predict_s1[j]<0.5):\n",
    "            predict_s2[j]=0\n",
    "        else:\n",
    "            predict_s2[j]=1\n",
    "    #print(metrics.accuracy_score(test_target,predict2))\n",
    "    #print(lin_clf.coef_.shape[0])\n",
    "    #print(lin_clf.coef_)\n",
    "    #new_array = np.array(lin_clf.coef_)\n",
    "    #coef_cv_svm[i,:lin_clf.coef_.shape[0]]=np.array(svm_clf.coef_)\n",
    "    print(\"In \"+ str(i+1)  + \" fold, the accuracy is \"+ str(metrics.accuracy_score(test_target,predict_s2)))\n",
    "    print(\"In \"+ str(i+1) + \"fold, the mean of the coefficients is \"+ str(svm_clf.dual_coef_.mean()))\n",
    "    "
   ]
  },
  {
   "cell_type": "code",
   "execution_count": 19,
   "id": "8af2a6fb",
   "metadata": {},
   "outputs": [
    {
     "name": "stdout",
     "output_type": "stream",
     "text": [
      "(48000, 1117)\n"
     ]
    }
   ],
   "source": [
    "print(train.shape)"
   ]
  },
  {
   "cell_type": "code",
   "execution_count": 20,
   "id": "334e82cf",
   "metadata": {},
   "outputs": [
    {
     "data": {
      "image/png": "[encoded data removed]",
      "text/plain": [
       "<Figure size 432x432 with 1 Axes>"
      ]
     },
     "metadata": {
      "needs_background": "light"
     },
     "output_type": "display_data"
    }
   ],
   "source": [
    "i=1\n",
    "test_index = np.arange(i*fold_size, i*fold_size+fold_size,1)\n",
    "train_index = np.setdiff1d(np.arange(0,df.shape[0],1),test_index)\n",
    "train_raw = x.iloc[train_index]\n",
    "train_target_raw = y.iloc[train_index]\n",
    "test_raw = x.iloc[test_index]\n",
    "test_target_raw = y.iloc[test_index]\n",
    "#pipeline\n",
    "train = full_pipeline.fit_transform(train_raw)\n",
    "test = full_pipeline.transform(test_raw)\n",
    "train_target = train_target_raw.to_numpy()\n",
    "test_target = test_target_raw.to_numpy()\n",
    "svm_clf = svm.SVC()\n",
    "svm_clf.fit(train,train_target)\n",
    "predict_s1 = svm_clf.predict(test)\n",
    "predict_s2 = np.zeros(predict_s1.shape[0])\n",
    "for j in range(predict_s2.shape[0]):\n",
    "    if (predict_s1[j]<0.5):\n",
    "        predict_s2[j]=0\n",
    "    else:\n",
    "        predict_s2[j]=1\n",
    "cm_svm = confusion_matrix(test_target, predict_s2)\n",
    "fig, ax = plot_confusion_matrix(conf_mat=cm_svm, figsize=(6, 6))\n",
    "\n"
   ]
  },
  {
   "cell_type": "markdown",
   "id": "899847f5",
   "metadata": {},
   "source": [
    "\n",
    "STAGE 4\n",
    "\n"
   ]
  },
  {
   "cell_type": "code",
   "execution_count": 21,
   "id": "d2860f19",
   "metadata": {},
   "outputs": [
    {
     "name": "stdout",
     "output_type": "stream",
     "text": [
      "In 1 fold, the mean value of the coefficients is 5.94901925814213e-06 ,the standard deviation is 0.12248573377921959\n",
      "In 2 fold, the mean value of the coefficients is 6.244364101749037e-06 ,the standard deviation is 0.12262458333616823\n",
      "In 3 fold, the mean value of the coefficients is 5.483139025939465e-06 ,the standard deviation is 0.123042745884923\n",
      "In 4 fold, the mean value of the coefficients is 5.993562463778327e-06 ,the standard deviation is 0.12163535870429264\n",
      "In 5 fold, the mean value of the coefficients is 6.891385417288613e-06 ,the standard deviation is 0.12226027467341849\n"
     ]
    }
   ],
   "source": [
    "\n",
    "for i in range(coef_cv.shape[0]):\n",
    "    print(\"In \" + str(i+1) +\" fold, the mean value of the coefficients is \"+ str(coef_cv[i].mean())+\" ,the\"\n",
    "          + \" standard deviation is \" + str(coef_cv[i].std()))\n",
    "          "
   ]
  },
  {
   "cell_type": "code",
   "execution_count": 22,
   "id": "c0b9bf87",
   "metadata": {},
   "outputs": [
    {
     "name": "stdout",
     "output_type": "stream",
     "text": [
      "In 1 fold, the mean value of the coefficients is 5.7950329675539556e-06 , the standard deviation is 0.1222168835126368\n",
      "In 2 fold, the mean value of the coefficients is 6.166212958672664e-06 , the standard deviation is 0.12238618463792503\n",
      "In 3 fold, the mean value of the coefficients is 5.355922649804275e-06 , the standard deviation is 0.12278907509489799\n",
      "In 4 fold, the mean value of the coefficients is 5.8715604676370015e-06 , the standard deviation is 0.12135877251187425\n",
      "In 5 fold, the mean value of the coefficients is 6.742200370294427e-06 , the standard deviation is 0.12202690983979572\n"
     ]
    }
   ],
   "source": [
    "\n",
    "for i in range(coef_cv.shape[0]):\n",
    "    print(\"In \" + str(i+1) + \" fold, the mean value of the coefficients is \"+ str(coef_fe_cv[i].mean())+\" , the\"\n",
    "          + \" standard deviation is \" + str(coef_fe_cv[i].std()))"
   ]
  },
  {
   "cell_type": "code",
   "execution_count": 23,
   "id": "ecee3fcf",
   "metadata": {},
   "outputs": [
    {
     "name": "stdout",
     "output_type": "stream",
     "text": [
      "L2 norm of coefficients: 24.90256207803996\n"
     ]
    }
   ],
   "source": [
    "l2_norm = np.linalg.norm(ridge.coef_)\n",
    "\n",
    "print(\"L2 norm of coefficients:\", l2_norm)"
   ]
  },
  {
   "cell_type": "code",
   "execution_count": 24,
   "id": "fc2a065b",
   "metadata": {},
   "outputs": [
    {
     "data": {
      "image/png": "[encoded data removed]",
      "text/plain": [
       "<Figure size 432x432 with 1 Axes>"
      ]
     },
     "metadata": {
      "needs_background": "light"
     },
     "output_type": "display_data"
    }
   ],
   "source": [
    "i=1\n",
    "test_index = np.arange(i*fold_size, i*fold_size+fold_size,1)\n",
    "train_index = np.setdiff1d(np.arange(0,df.shape[0],1),test_index)\n",
    "train_raw = x.iloc[train_index]\n",
    "train_target_raw = y.iloc[train_index]\n",
    "test_raw = x.iloc[test_index]\n",
    "test_target_raw = y.iloc[test_index]\n",
    "#pipeline\n",
    "train = full_pipeline.fit_transform(train_raw)\n",
    "test = full_pipeline.transform(test_raw)\n",
    "train_target = train_target_raw.to_numpy()\n",
    "test_target = test_target_raw.to_numpy()\n",
    "svm_clf = svm.SVC()\n",
    "svm_clf.fit(train,train_target)\n",
    "predict_s1 = svm_clf.predict(test)\n",
    "predict_s2 = np.zeros(predict_s1.shape[0])\n",
    "for j in range(predict_s2.shape[0]):\n",
    "    if (predict_s1[j]<0.5):\n",
    "        predict_s2[j]=0\n",
    "    else:\n",
    "        predict_s2[j]=1\n",
    "cm_svm = confusion_matrix(test_target, predict_s2)\n",
    "fig, ax = plot_confusion_matrix(conf_mat=cm_svm, figsize=(6, 6))"
   ]
  },
  {
   "cell_type": "code",
   "execution_count": null,
   "id": "4255f4c2",
   "metadata": {},
   "outputs": [],
   "source": []
  }
 ],
 "metadata": {
  "kernelspec": {
   "display_name": "Python 3 (ipykernel)",
   "language": "python",
   "name": "python3"
  },
  "language_info": {
   "codemirror_mode": {
    "name": "ipython",
    "version": 3
   },
   "file_extension": ".py",
   "mimetype": "text/x-python",
   "name": "python",
   "nbconvert_exporter": "python",
   "pygments_lexer": "ipython3",
   "version": "3.9.11"
  }
 },
 "nbformat": 4,
 "nbformat_minor": 5
}
